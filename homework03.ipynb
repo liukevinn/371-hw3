{
 "cells": [
  {
   "cell_type": "markdown",
   "metadata": {
    "cell_marker": "r\"\"\"",
    "slideshow": {
     "slide_type": ""
    },
    "tags": [
     "AST"
    ]
   },
   "source": [
    "<style>\n",
    "    @media print{\n",
    "        body {\n",
    "            position:relative !important;\n",
    "        }\n",
    "        .celltag_new_page {\n",
    "            page-break-before: always !important;\n",
    "        }\n",
    "    }\n",
    "</style>\n",
    "<div hidden>\n",
    "    $$\n",
    "    \\newcommand{\\reals}{\\mathbb{R}}\n",
    "    \\newcommand{\\naturals}{\\mathbb{N}}\n",
    "    \\newcommand{\\integers}{\\mathbb{Z}}\n",
    "    \\newcommand{\\prob}{\\mathbb{P}}\n",
    "    \\newcommand{\\expect}{\\mathbb{E}}\n",
    "    \\newcommand{\\b}[1]{\\mathbf{#1}}\n",
    "    \\newcommand{\\bs}[1]{\\boldsymbol{#1}}\n",
    "    \\newcommand{\\c}[1]{\\mathcal{#1}}\n",
    "    \\newcommand{mat}[2]{\\left[\\,\\begin{array}{#1}#2\\end{array}\\,\\right]}\n",
    "    $$\n",
    "</div>"
   ]
  },
  {
   "cell_type": "markdown",
   "metadata": {
    "cell_marker": "\"\"\"",
    "slideshow": {
     "slide_type": ""
    },
    "tags": [
     "AST"
    ]
   },
   "source": [
    "# COMPSCI 371 Homework 3"
   ]
  },
  {
   "cell_type": "markdown",
   "metadata": {
    "cell_marker": "\"\"\"",
    "slideshow": {
     "slide_type": ""
    },
    "tags": [
     "T"
    ]
   },
   "source": [
    "_**Group Members:**_"
   ]
  },
  {
   "cell_type": "markdown",
   "metadata": {
    "cell_marker": "\"\"\"",
    "slideshow": {
     "slide_type": ""
    },
    "tags": [
     "AT"
    ]
   },
   "source": [
    "### Problem 0 (3 points)"
   ]
  },
  {
   "cell_type": "markdown",
   "metadata": {
    "cell_marker": "\"\"\"",
    "slideshow": {
     "slide_type": ""
    },
    "tags": [
     "AST"
    ]
   },
   "source": [
    "## Part 1: Stochastic Gradient Descent"
   ]
  },
  {
   "cell_type": "code",
   "execution_count": 1,
   "metadata": {
    "slideshow": {
     "slide_type": ""
    },
    "tags": [
     "AST"
    ]
   },
   "outputs": [],
   "source": [
    "import urllib.request\n",
    "import ssl\n",
    "from os import path as osp\n",
    "import shutil\n",
    "\n",
    "\n",
    "def retrieve(file_name, semester='fall24', homework=3):\n",
    "    if osp.exists(file_name):\n",
    "        print('Using previously downloaded file {}'.format(file_name))\n",
    "    else:\n",
    "        context = ssl._create_unverified_context()\n",
    "        fmt = 'https://www2.cs.duke.edu/courses/{}/compsci371/homework/{}/{}'\n",
    "        url = fmt.format(semester, homework, file_name)\n",
    "        with urllib.request.urlopen(url, context=context) as response:\n",
    "            with open(file_name, 'wb') as file:\n",
    "                shutil.copyfileobj(response, file)\n",
    "        print('Downloaded file {}'.format(file_name))"
   ]
  },
  {
   "cell_type": "code",
   "execution_count": 2,
   "metadata": {
    "slideshow": {
     "slide_type": ""
    },
    "tags": [
     "AST"
    ]
   },
   "outputs": [
    {
     "name": "stdout",
     "output_type": "stream",
     "text": [
      "Using previously downloaded file helpers.py\n"
     ]
    }
   ],
   "source": [
    "retrieve('helpers.py', homework=2)"
   ]
  },
  {
   "cell_type": "code",
   "execution_count": 3,
   "metadata": {
    "slideshow": {
     "slide_type": ""
    },
    "tags": [
     "AST"
    ]
   },
   "outputs": [],
   "source": [
    "from helpers import Stepper\n",
    "from autograd import numpy as anp\n",
    "import numpy as snp\n",
    "\n",
    "\n",
    "def gradient_descent(\n",
    "    f, z, alpha, min_step=1.e-6, max_iter=10000, history=False, **kwargs\n",
    "):\n",
    "    step = Stepper(f, z, alpha, history=history, **kwargs)\n",
    "    z, fz, gz = anp.copy(z), step.fz0, step.gz0\n",
    "    for k in range(max_iter):\n",
    "        s, z, fz, gz = step(z, **kwargs)\n",
    "        if anp.linalg.norm(s) < min_step:\n",
    "            break\n",
    "    step.show_history()\n",
    "    return fz, z, k"
   ]
  },
  {
   "cell_type": "code",
   "execution_count": 4,
   "metadata": {
    "slideshow": {
     "slide_type": ""
    },
    "tags": [
     "AST"
    ]
   },
   "outputs": [
    {
     "name": "stdout",
     "output_type": "stream",
     "text": [
      "Using previously downloaded file students.pkl\n"
     ]
    }
   ],
   "source": [
    "import pickle\n",
    "\n",
    "\n",
    "file_name = 'students.pkl'\n",
    "retrieve(file_name)\n",
    "with open(file_name, 'rb') as file:\n",
    "    students = pickle.load(file)"
   ]
  },
  {
   "cell_type": "code",
   "execution_count": 5,
   "metadata": {},
   "outputs": [
    {
     "name": "stdout",
     "output_type": "stream",
     "text": [
      "['Hours Studied', 'Previous Scores', 'Sleep Hours', 'Sample Question Papers Practiced']\n",
      "Performance Index\n"
     ]
    }
   ],
   "source": [
    "print(students.features)\n",
    "print(students.values)"
   ]
  },
  {
   "cell_type": "markdown",
   "metadata": {
    "cell_marker": "\"\"\"",
    "slideshow": {
     "slide_type": ""
    },
    "tags": [
     "AST"
    ]
   },
   "source": [
    "### Problem 1.1"
   ]
  },
  {
   "cell_type": "code",
   "execution_count": 6,
   "metadata": {},
   "outputs": [
    {
     "name": "stdout",
     "output_type": "stream",
     "text": [
      "Model coefficients: [0.07365753 0.17634194 0.00817971 0.00533195]\n",
      "Model intercept: 0.5523395643090314\n",
      "Relative RMS error (Training): 0.0350\n",
      "Relative RMS error (Testing): 0.0355\n"
     ]
    }
   ],
   "source": [
    "import numpy as np\n",
    "from sklearn.linear_model import LinearRegression\n",
    "\n",
    "x_train = students.train.x\n",
    "y_train = students.train.y\n",
    "x_test = students.test.x\n",
    "y_test = students.test.y\n",
    "\n",
    "# Train the model\n",
    "model = LinearRegression()\n",
    "model.fit(x_train, y_train)\n",
    "\n",
    "# Function to compute RMS\n",
    "def rms(v, x, y):\n",
    "    y_pred = model.predict(x)\n",
    "    numerator = np.sqrt(np.mean((y - y_pred) ** 2))\n",
    "    denominator = np.sqrt(np.mean(y ** 2))\n",
    "    return numerator / denominator\n",
    "\n",
    "print(\"Model coefficients:\", model.coef_)\n",
    "print(\"Model intercept:\", model.intercept_)\n",
    "print(\"Relative RMS error (Training): {:.4f}\".format(rms(model.coef_, x_train, y_train)))\n",
    "print(\"Relative RMS error (Testing): {:.4f}\".format(rms(model.coef_, x_test, y_test)))\n"
   ]
  },
  {
   "cell_type": "markdown",
   "metadata": {},
   "source": [
    "Performance: The relative RMS error on the training set was computed to be 0.0350, which indicates that the model fits the training data well. A relative RMS error of 0.0350 suggests that the residuals (the differences between the predicted and actual values) are small relative to the magnitude of the actual values.\n",
    "\n",
    "Generalization: The similarity of the relative RMS error from the training set (0.0350) to the testing set (0.0355) indicates effective generalization. There's no significant increase or decrease in error when the model is applied to the test data. This means that the data is not overfitting nor underfitting. For example, if the model was overfitting, that is kind of just memorizing the training data, that would lead to a higher testing error. Also, we know the model is not underfitting since it reports a low, comparable test accuracy which wouldn't be the case if our model had high bias. Since the relative RMS errors of the training set and test set are both low and similar to each other, our model is generalizing well."
   ]
  },
  {
   "cell_type": "markdown",
   "metadata": {
    "cell_marker": "\"\"\"",
    "slideshow": {
     "slide_type": ""
    },
    "tags": [
     "AST"
    ]
   },
   "source": [
    "### Problem 1.2"
   ]
  },
  {
   "cell_type": "code",
   "execution_count": 10,
   "metadata": {},
   "outputs": [
    {
     "name": "stdout",
     "output_type": "stream",
     "text": [
      "Risk for the entire dataset: 50.1153\n",
      "Risk for the first 100 samples: 44.3617\n",
      "Risk for the last 100 samples: 53.2272\n"
     ]
    }
   ],
   "source": [
    "def risk(v, x=None, y=None, indices=None):\n",
    "    if indices is None:\n",
    "        indices = range(len(y))  # Use the entire dataset if no indices are provided\n",
    "    b = v[0]\n",
    "    w = v[1:]\n",
    "    predictions = b + anp.dot(x[indices], w)\n",
    "    errors = predictions - y[indices]\n",
    "    mean_squared_error = anp.mean(anp.square(errors))\n",
    "    return mean_squared_error\n",
    "\n",
    "b = 5\n",
    "w = anp.array([1, 2, 3, 4])\n",
    "v = anp.concatenate(([b], w))\n",
    "\n",
    "x_train = students.train.x\n",
    "y_train = students.train.y\n",
    "\n",
    "print(\"Risk for the entire dataset: {:.4f}\".format(risk(v, x_train, y_train)))\n",
    "print(\"Risk for the first 100 samples: {:.4f}\".format(risk(v, x_train, y_train, indices=range(100))))\n",
    "print(\"Risk for the last 100 samples: {:.4f}\".format(risk(v, x_train, y_train, indices=range(-100, 0))))\n"
   ]
  },
  {
   "cell_type": "markdown",
   "metadata": {
    "cell_marker": "\"\"\"",
    "slideshow": {
     "slide_type": ""
    },
    "tags": [
     "AST"
    ]
   },
   "source": [
    "### Problem 1.3"
   ]
  },
  {
   "cell_type": "code",
   "execution_count": 25,
   "metadata": {},
   "outputs": [
    {
     "data": {
      "image/png": "[encoded data removed]",
      "text/plain": [
       "<Figure size 600x300 with 1 Axes>"
      ]
     },
     "metadata": {},
     "output_type": "display_data"
    },
    {
     "name": "stdout",
     "output_type": "stream",
     "text": [
      "num epochs:  3521\n",
      "v: [0.55186512 0.07362859 0.17619758 0.0081941  0.00536668]\n",
      "Training RMS: 0.035038897495906655\n",
      "Testing RMS: 0.0354565042741402\n"
     ]
    }
   ],
   "source": [
    "import numpy as snp  # Ensure standard numpy is imported\n",
    "from autograd import numpy as anp  # For autograd.numpy\n",
    "anp.random.seed(42)\n",
    "# The risk function should correctly handle x and y passed as kwargs\n",
    "def risk(v, x=None, y=None, indices=None):\n",
    "    if indices is None:\n",
    "        indices = range(len(y))  # Use the entire dataset if no indices are provided\n",
    "    b = v[0]\n",
    "    w = v[1:]\n",
    "    predictions = b + anp.dot(x[indices], w)\n",
    "    errors = predictions - y[indices]\n",
    "    mean_squared_error = anp.mean(anp.square(errors))\n",
    "    return mean_squared_error\n",
    "\n",
    "# SGD function with corrected handling of x and y\n",
    "def sgd(h, v, alpha=1.e-3, x=None, y=None, batch_size=None,\n",
    "        min_step=1.e-6, max_epochs=5000, history=True):\n",
    "    \n",
    "    # Ensure batch_size is set, defaulting to full dataset if not specified\n",
    "    batch_size = batch_size if batch_size else x.shape[0]\n",
    "\n",
    "    # Initialize Stepper with the correct indices and batch data\n",
    "    step = Stepper(h, v, alpha, indices=snp.arange(batch_size), history=history, x=x, y=y)\n",
    "    \n",
    "    v = anp.copy(v)\n",
    "    num_batches = len(x) // batch_size\n",
    "\n",
    "    num_epochs = 0\n",
    "    prev_v = anp.copy(v)\n",
    "\n",
    "    for k in range(max_epochs):\n",
    "        num_epochs = k\n",
    "        rng = np.random.default_rng(seed=42)\n",
    "        ordering = rng.permutation(len(x))\n",
    "\n",
    "        for i in range(num_batches):\n",
    "            indices = ordering[i * batch_size : min((i + 1) * batch_size, len(x))]\n",
    "            v = step(v, x=x, y=y, indices=indices)[1]\n",
    "\n",
    "        if anp.linalg.norm(anp.array(prev_v) - anp.array(v)) < min_step:\n",
    "            break\n",
    "\n",
    "        prev_v = anp.copy(v)\n",
    "\n",
    "    step.show_history()\n",
    "    return v, num_epochs\n",
    "\n",
    "# Example usage:\n",
    "# Assuming students.train.x and students.train.y are defined and valid\n",
    "v = anp.zeros(students.train.x.shape[1] + 1)  # Initialize v with zeros\n",
    "\n",
    "# Run the SGD function\n",
    "v, num_epochs = sgd(risk, v, x=students.train.x, y=students.train.y)\n",
    "\n",
    "print(\"num epochs: \", num_epochs)\n",
    "print(\"v:\", v)\n",
    "print(\"Training RMS:\", rms(v, students.train.x, students.train.y))\n",
    "print(\"Testing RMS:\", rms(v, students.test.x, students.test.y))\n"
   ]
  },
  {
   "cell_type": "markdown",
   "metadata": {
    "cell_marker": "\"\"\"",
    "slideshow": {
     "slide_type": ""
    },
    "tags": [
     "AST"
    ]
   },
   "source": [
    "### Problem 1.4 (Exam Style)"
   ]
  },
  {
   "cell_type": "markdown",
   "metadata": {},
   "source": [
    "When batch_size=None in the SGD method, the entire dataset is used for each update, effectively reducing the stochastic gradient descent (SGD) to regular gradient descent (GD). In this setting, each update considers all data points, which is precisely what happens in regular gradient descent. Thus, SGD with batch_size=None is equivalent to gradient descent."
   ]
  },
  {
   "cell_type": "markdown",
   "metadata": {
    "cell_marker": "\"\"\"",
    "slideshow": {
     "slide_type": ""
    },
    "tags": [
     "AST"
    ]
   },
   "source": [
    "### Problem 1.5"
   ]
  },
  {
   "cell_type": "code",
   "execution_count": 27,
   "metadata": {},
   "outputs": [
    {
     "data": {
      "image/png": "[encoded data removed]",
      "text/plain": [
       "<Figure size 600x300 with 1 Axes>"
      ]
     },
     "metadata": {},
     "output_type": "display_data"
    },
    {
     "name": "stdout",
     "output_type": "stream",
     "text": [
      "num epochs: 109\n",
      "v: [0.55232602 0.07365547 0.17633033 0.0081905  0.00534347]\n",
      "training: 0.035038897495906655\n",
      "testing: 0.0354565042741402\n"
     ]
    }
   ],
   "source": [
    "\n",
    "v = anp.zeros(students.train.x.shape[1] + 1)  # Initialize v with zeros\n",
    "\n",
    "v, num_epochs = sgd(risk, v, x=students.train.x, y=students.train.y, batch_size=100)\n",
    "print(\"num epochs:\", num_epochs)\n",
    "print(\"v:\", v)\n",
    "print(\"training:\",rms(v, students.train.x, students.train.y))\n",
    "print(\"testing:\",rms(v, students.test.x, students.test.y))"
   ]
  },
  {
   "cell_type": "markdown",
   "metadata": {
    "cell_marker": "\"\"\"",
    "slideshow": {
     "slide_type": ""
    },
    "tags": [
     "AST"
    ]
   },
   "source": [
    "### Problem 1.6 (Exam Style)"
   ]
  },
  {
   "cell_type": "markdown",
   "metadata": {},
   "source": [
    "Which of the two optimizations (Problem 1.3 or 1.5) required computing fewer scalar derivatives?\n",
    "\n",
    "\n",
    "We should note that the number of scalar derivates per epoch for full-batch gradient descent is the same number of scalar derivates per epoch for mini-batch gradient descent. For example, we can compute the number of scalar derivates per epoch for full-batch using the equation: \n",
    "\n",
    "Number of scalar derivatives = number of training samples×number of features = (N * d)\n",
    "\n",
    "For mini-batch, we can compute the number of scalar derivates per epoch as:\n",
    "\n",
    "Total number of scalar derivatives per epoch = (N / batch_size) * batch_size * d = (N * d).\n",
    "\n",
    "Since the number of scalar derivatives per epoch is the same, which ever converges in less epochs will have fewer scalar derivatives. Mini-batch gradient descent updates the model parameters more frequently using smaller subsets of the data. As a result, mini-batch gradient descent usually achieves convergence in fewer epochs, even though each individual update may not be as precise as that of full-batch gradient descent.\n",
    "\n",
    "On the other hand, full-batch (regular gradient descent) takes more epochs to converge. This is because the model parameters are updated only once per epoch, after computing the gradient using the entire dataset. Due to these less frequent updates, the learning process becomes slower, as the model makes more conservative steps toward the optimal solution. \n",
    "\n",
    "Thus, mini-batch gradient descent (1.5) computes fewer scalar derivatives."
   ]
  },
  {
   "cell_type": "markdown",
   "metadata": {},
   "source": [
    "Account for the ratio between the number of scalar derivatives for the two runs. That is, derive the ratio, approximately, from what you know about the two runs:\n",
    "\n",
    "We know that the number of scalar derivatives per epoch is the same for mini-batch and full-batch gradient descent, so the ratio of scalar derivatives for the two runs is jus the ratio of the number of epochs. We computed the number of epochs needed for convergence for regular gradient descent to be 3521 and the number of epochs needed for convergence for mini-batch (batch_size = 100) to be 109.\n",
    "\n",
    "Thus the ratio, approximately is 3521/109 = 32.3027523.\n",
    "\n",
    "However, it should be noted that this can vary due to different seed initializations."
   ]
  },
  {
   "cell_type": "markdown",
   "metadata": {
    "cell_marker": "\"\"\"",
    "slideshow": {
     "slide_type": ""
    },
    "tags": [
     "AST"
    ]
   },
   "source": [
    "### Problem 1.7 (Exam Style)"
   ]
  },
  {
   "cell_type": "markdown",
   "metadata": {},
   "source": [
    "In full-batch gradient descent, the gradient is calculated using the entire dataset. Thus, it has a stable and accurate direction for minimizing the risk. Since every update accounts for all training samples, the value of the risk decreases monotonically and in a steady manner -- assuming the learning rate (𝛼) is small enough.\n",
    "\n",
    "However, in mini-batch SGD, each gradient update is based on a randomly selected subset, in this case, 100 samples. Although the gradient direction for each mini-batch typically moves parameters in the right direction on the average of many updates, each individual update may not be so accurate. As a result, the gradient calculated from one mini-batch might temporarily push the parameters in a direction that increases the overall risk, while another batch might push them in the correct direction (decrease risk). This leads to what we see -- the jagged (non-monotonic) behavior in the plot"
   ]
  },
  {
   "cell_type": "markdown",
   "metadata": {
    "cell_marker": "\"\"\"",
    "slideshow": {
     "slide_type": ""
    },
    "tags": [
     "AST"
    ]
   },
   "source": [
    "## Part 2: Linear Score-Based Classifiers"
   ]
  },
  {
   "cell_type": "markdown",
   "metadata": {
    "cell_marker": "\"\"\"",
    "slideshow": {
     "slide_type": ""
    },
    "tags": [
     "AST"
    ]
   },
   "source": [
    "### Problem 2.1 (Exam Style)"
   ]
  },
  {
   "cell_type": "markdown",
   "metadata": {
    "cell_marker": "\"\"\"",
    "slideshow": {
     "slide_type": ""
    },
    "tags": [
     "AST"
    ]
   },
   "source": [
    "### Problem 2.2 (Exam Style)"
   ]
  },
  {
   "cell_type": "markdown",
   "metadata": {
    "cell_marker": "\"\"\"",
    "slideshow": {
     "slide_type": ""
    },
    "tags": [
     "AST"
    ]
   },
   "source": [
    "### Problem 2.3 (Exam Style)"
   ]
  },
  {
   "cell_type": "markdown",
   "metadata": {
    "cell_marker": "\"\"\"",
    "slideshow": {
     "slide_type": ""
    },
    "tags": [
     "AST"
    ]
   },
   "source": [
    "### Problem 2.4"
   ]
  },
  {
   "cell_type": "code",
   "execution_count": 10,
   "metadata": {
    "slideshow": {
     "slide_type": ""
    },
    "tags": [
     "AST"
    ]
   },
   "outputs": [
    {
     "name": "stdout",
     "output_type": "stream",
     "text": [
      "Using previously downloaded file classifiers.pkl\n"
     ]
    }
   ],
   "source": [
    "import pickle\n",
    "\n",
    "file_name = 'classifiers.pkl'\n",
    "retrieve(file_name)\n",
    "with open(file_name, 'rb') as file:\n",
    "    classifiers = pickle.load(file)"
   ]
  },
  {
   "cell_type": "code",
   "execution_count": 11,
   "metadata": {},
   "outputs": [
    {
     "name": "stdout",
     "output_type": "stream",
     "text": [
      "['Hours Studied', 'Previous Scores', 'Sleep Hours', 'Sample Question Papers Practiced']\n",
      "Performance Index\n"
     ]
    }
   ],
   "source": [
    "print(students.features)\n",
    "print(students.values)\n"
   ]
  },
  {
   "cell_type": "markdown",
   "metadata": {
    "cell_marker": "\"\"\"",
    "slideshow": {
     "slide_type": ""
    },
    "tags": [
     "AST"
    ]
   },
   "source": [
    "### Problem 2.5"
   ]
  },
  {
   "cell_type": "markdown",
   "metadata": {
    "cell_marker": "\"\"\"",
    "slideshow": {
     "slide_type": ""
    },
    "tags": [
     "AST"
    ]
   },
   "source": [
    "## Part 3: Linear Classification of Handwritten Digits "
   ]
  },
  {
   "cell_type": "code",
   "execution_count": 12,
   "metadata": {
    "slideshow": {
     "slide_type": ""
    },
    "tags": [
     "AST"
    ]
   },
   "outputs": [],
   "source": [
    "from sklearn import datasets\n",
    "from sklearn.model_selection import train_test_split\n",
    "from types import SimpleNamespace\n",
    "\n",
    "digits = datasets.load_digits()\n",
    "x_train, x_test, y_train, y_test = train_test_split(\n",
    "    digits.data, digits.target, train_size=900, shuffle=False\n",
    ")\n",
    "mnist = SimpleNamespace(\n",
    "    train=SimpleNamespace(x=x_train, y=y_train),\n",
    "    test=SimpleNamespace(x=x_test, y=y_test)\n",
    ")"
   ]
  },
  {
   "cell_type": "markdown",
   "metadata": {
    "cell_marker": "\"\"\"",
    "slideshow": {
     "slide_type": ""
    },
    "tags": [
     "AST"
    ]
   },
   "source": [
    "### Problem 3.1"
   ]
  },
  {
   "cell_type": "markdown",
   "metadata": {
    "cell_marker": "\"\"\"",
    "slideshow": {
     "slide_type": ""
    },
    "tags": [
     "AST"
    ]
   },
   "source": [
    "### Problem 3.2 (Exam Style)"
   ]
  }
 ],
 "metadata": {
  "celltoolbar": "Tags",
  "jupytext": {
   "cell_markers": "\"\"\""
  },
  "kernelspec": {
   "display_name": "Python 3 (ipykernel)",
   "language": "python",
   "name": "python3"
  },
  "language_info": {
   "codemirror_mode": {
    "name": "ipython",
    "version": 3
   },
   "file_extension": ".py",
   "mimetype": "text/x-python",
   "name": "python",
   "nbconvert_exporter": "python",
   "pygments_lexer": "ipython3",
   "version": "3.12.6"
  },
  "pycharm": {
   "stem_cell": {
    "cell_type": "raw",
    "metadata": {
     "collapsed": false
    },
    "source": []
   }
  }
 },
 "nbformat": 4,
 "nbformat_minor": 4
}
